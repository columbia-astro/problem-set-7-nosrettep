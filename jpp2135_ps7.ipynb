{
 "cells": [
  {
   "cell_type": "markdown",
   "metadata": {},
   "source": [
    "Sample code for problem 7 -- first, use kplr to read in the data"
   ]
  },
  {
   "cell_type": "code",
   "execution_count": 1,
   "metadata": {
    "collapsed": true
   },
   "outputs": [],
   "source": [
    "import numpy as np\n",
    "import kplr\n",
    "\n",
    "# Find the target KOI.\n",
    "client = kplr.API()\n",
    "koi = client.koi(97.01)\n",
    "\n",
    "# Get a list of light curve datasets.\n",
    "lcs = koi.get_light_curves(short_cadence=False)\n",
    "\n",
    "# Open the first dataset and read it\n",
    "f = lcs[0].open()\n",
    "hdu_data = f[1].data\n",
    "\n",
    "time = hdu_data[\"time\"]  # get the time of each observation\n",
    "flux = hdu_data[\"sap_flux\"] # get the flux\n",
    "flux_err = hdu_data[\"sap_flux_err\"] # get the error in the flux\n",
    "\n",
    "f.close()"
   ]
  },
  {
   "cell_type": "markdown",
   "metadata": {},
   "source": [
    "Next, import my_transit helper function and define func1 and func2, which are the two functions to be integrated to compute the flux theory curve (which is the ratio of the integral(func1)/integral(func2))."
   ]
  },
  {
   "cell_type": "code",
   "execution_count": 2,
   "metadata": {
    "collapsed": true
   },
   "outputs": [],
   "source": [
    "import my_transit\n",
    "\n",
    "def I(r):\n",
    "    '''A Limb-darkening function'''\n",
    "    mu = (1 - (r**2))**(0.5)\n",
    "    return 1 - (1 - (mu**(0.5)))\n",
    "\n",
    "def func1(r, p, z):\n",
    "    return I(r) * (1 - my_transit.delta(p,r,abs(z))) * 2 * r\n",
    "\n",
    "def func2(r, p, z):\n",
    "    return I(r) * 2 * r"
   ]
  },
  {
   "cell_type": "markdown",
   "metadata": {
    "collapsed": true
   },
   "source": [
    "## Problem 1"
   ]
  },
  {
   "cell_type": "code",
   "execution_count": 3,
   "metadata": {},
   "outputs": [],
   "source": [
    "# figure out correct place to extract data\n",
    "r1_ix = np.where(time < 125)\n",
    "r2_ix = np.where(time > 124)\n",
    "\n",
    "# extract data between 124 and 125 t\n",
    "time_extract = time[170:218]\n",
    "flux_extract = flux[170:218]\n",
    "flux_err_extract = flux_err[170:218]"
   ]
  },
  {
   "cell_type": "code",
   "execution_count": 4,
   "metadata": {},
   "outputs": [
    {
     "data": {
      "text/plain": [
       "array([ 124.013216  ,  124.0336506 ,  124.054085  ,  124.0745195 ,\n",
       "        124.094954  ,  124.1153885 ,  124.135823  ,  124.1562575 ,\n",
       "        124.1766921 ,  124.1971265 ,  124.217561  ,  124.2379955 ,\n",
       "        124.25843   ,  124.2788645 ,  124.299299  ,  124.31973359,\n",
       "        124.34016799,  124.36060249,  124.38103699,  124.40147149,\n",
       "        124.42190599,  124.44234049,  124.46277509,  124.48320949,\n",
       "        124.50364398,  124.52407838,  124.54451298,  124.56494748,\n",
       "        124.58538188,  124.60581648,  124.62625097,  124.64668547,\n",
       "        124.66711987,  124.68755447,  124.70798897,  124.72842336,\n",
       "        124.74885796,  124.76929246,  124.78972686,  124.81016135,\n",
       "        124.83059595,  124.85103035,  124.87146485,  124.89189934,\n",
       "        124.91233394,  124.93276834,  124.95320283,  124.97363743])"
      ]
     },
     "execution_count": 4,
     "metadata": {},
     "output_type": "execute_result"
    }
   ],
   "source": [
    "time_extract"
   ]
  },
  {
   "cell_type": "code",
   "execution_count": 5,
   "metadata": {},
   "outputs": [
    {
     "data": {
      "text/plain": [
       "array([ 104186.8125   ,  104175.7265625,  104183.125    ,  104161.03125  ,\n",
       "        104177.140625 ,  104169.2578125,  104180.8515625,  104151.0234375,\n",
       "        104183.9609375,  104171.3359375,  104176.8671875,  104187.3046875,\n",
       "        104189.578125 ,  104187.6796875,  104181.2578125,  104175.7734375,\n",
       "        104179.578125 ,  104179.9296875,  104179.4296875,  104082.0390625,\n",
       "        103619.6328125,  103486.2109375,  103454.1640625,  103412.9921875,\n",
       "        103405.578125 ,  103392.3828125,  103434.1953125,  103486.5703125,\n",
       "        103571.3125   ,  103979.7265625,  104176.4609375,  104172.515625 ,\n",
       "        104163.953125 ,  104172.015625 ,  104171.5625   ,  104194.4765625,\n",
       "        104180.9453125,  104157.109375 ,  104182.9765625,  104176.453125 ,\n",
       "        104179.4296875,  104176.6875   ,  104181.3671875,  104176.25     ,\n",
       "        104182.890625 ,  104185.484375 ,  104192.1640625,  104184.2734375], dtype=float32)"
      ]
     },
     "execution_count": 5,
     "metadata": {},
     "output_type": "execute_result"
    }
   ],
   "source": [
    "flux_extract"
   ]
  },
  {
   "cell_type": "code",
   "execution_count": 6,
   "metadata": {
    "collapsed": true
   },
   "outputs": [],
   "source": [
    "def normalize_loop(time, flux, flux_err):\n",
    "    f_avg = np.mean(flux)\n",
    "    f_std = np.std(flux)\n",
    "    \n",
    "    keep_ix = np.where((abs(flux - f_avg) / f_std) < 2)\n",
    "    \n",
    "    return time[keep_ix], flux[keep_ix], flux_err[keep_ix]\n",
    "\n",
    "def normalize(time, flux, flux_err, n_loops):\n",
    "    \"\"\" Run the normalization algorithm n_loops times, and return new\n",
    "        time, flux, and flux_err arrays with the proper values dropped,\n",
    "        as well as the final average flux we will use for normalization.\n",
    "    \"\"\"\n",
    "    n = len(flux)\n",
    "    print(\"Starting with {} data points.\".format(n))\n",
    "    for i in range(n_loops):\n",
    "        time, flux, flux_err = normalize_loop(time, flux, flux_err)\n",
    "        n_new = len(flux)\n",
    "        print(\"On iteration {}, dropped {} data points.\".format(i, n - n_new))\n",
    "        n = n_new\n",
    "    \n",
    "    print(\"Done normalizing. Final # points: {}\".format(len(flux)))\n",
    "    final_avg = np.mean(flux)\n",
    "    print(\"Final Avg. Flux:                  {}\".format(final_avg))\n",
    "    \n",
    "    return time, flux, flux_err, final_avg"
   ]
  },
  {
   "cell_type": "code",
   "execution_count": 7,
   "metadata": {},
   "outputs": [
    {
     "name": "stdout",
     "output_type": "stream",
     "text": [
      "Starting with 48 data points.\n",
      "On iteration 0, dropped 7 data points.\n",
      "On iteration 1, dropped 2 data points.\n",
      "On iteration 2, dropped 2 data points.\n",
      "On iteration 3, dropped 2 data points.\n",
      "On iteration 4, dropped 3 data points.\n",
      "Done normalizing. Final # points: 32\n",
      "Final Avg. Flux:                  104179.90625\n"
     ]
    }
   ],
   "source": [
    "# clip some points from flux and compute the avg\n",
    "NORM_LOOPS = 5\n",
    "time_reduced, flux_reduced, flux_err_reduced, avg = normalize(time_extract, flux_extract, flux_err_extract, NORM_LOOPS)"
   ]
  },
  {
   "cell_type": "code",
   "execution_count": 8,
   "metadata": {},
   "outputs": [
    {
     "name": "stdout",
     "output_type": "stream",
     "text": [
      "Normalized Flux Array: [ 1.00006628  0.99995989  1.00003088  0.9998188   0.99997348  0.99989778\n",
      "  1.00000906  0.99972278  1.00003886  0.99991775  0.99997085  1.00007105\n",
      "  1.00009286  1.00007463  1.00001299  0.9999603   0.99999684  1.00000024\n",
      "  0.99999541  0.99906057  0.99462205  0.99334139  0.99303377  0.99263859\n",
      "  0.99256742  0.99244076  0.99284208  0.99334484  0.99415827  0.99807853\n",
      "  0.99996692  0.99992907  0.99984688  0.99992424  0.99991989  1.00013983\n",
      "  1.00001001  0.99978119  1.00002944  0.99996686  0.99999541  0.99996912\n",
      "  1.00001407  0.99996489  1.00002861  1.00005352  1.00011766  1.00004196]\n"
     ]
    }
   ],
   "source": [
    "# normalize the values\n",
    "flux_norm = flux_extract / avg\n",
    "flux_err_norm = flux_err_extract / avg\n",
    "\n",
    "print(\"Normalized Flux Array: {}\".format(str(flux_norm)))"
   ]
  },
  {
   "cell_type": "code",
   "execution_count": 9,
   "metadata": {
    "collapsed": true
   },
   "outputs": [],
   "source": [
    "from scipy import integrate, stats\n",
    "\n",
    "def flux_theoretical(time, p, t_0, tau):\n",
    "    \"\"\" Convert from Time to z and compute predicted transit curve \"\"\"\n",
    "    norm_t = (time - t_0) / tau\n",
    "    flux_ratio_list = []\n",
    "    for t in norm_t:\n",
    "        flux_obsc, flux_obsc_err = integrate.quad(func1, 0.0, 1.0, args=(p, t))\n",
    "        flux_unobsc, flux_unobsc_err = integrate.quad(func2, 0.0, 1.0, args=(p, t))\n",
    "        flux_ratio_list.append(flux_obsc / flux_unobsc)\n",
    "        \n",
    "    return np.array(flux_ratio_list)"
   ]
  },
  {
   "cell_type": "code",
   "execution_count": 10,
   "metadata": {
    "collapsed": true
   },
   "outputs": [],
   "source": [
    "def chi_squared(flux, flux_theory, flux_err):\n",
    "    s = 0\n",
    "    for f, ft, fe in zip(flux, flux_theory, flux_err):\n",
    "        square = ((f - ft) / fe) ** 2\n",
    "        s += square\n",
    "    return s"
   ]
  },
  {
   "cell_type": "code",
   "execution_count": 11,
   "metadata": {
    "collapsed": true
   },
   "outputs": [],
   "source": [
    "def p1_driver(flux_norm, flux_err_norm):\n",
    "    # first guess\n",
    "    PARAMS = {\n",
    "        'p': 0.0775,\n",
    "        'tau': 0.1,\n",
    "        't_0': 124.51\n",
    "    }\n",
    "\n",
    "    # compute theoretical flux\n",
    "    flux_theory = flux_theoretical(time_extract, PARAMS['p'], PARAMS['t_0'], PARAMS['tau'])\n",
    "\n",
    "    # compute chi squared\n",
    "    chi_squared_p1 = chi_squared(flux_norm, flux_theory, flux_err_norm)\n",
    "    \n",
    "    return flux_theory, chi_squared_p1"
   ]
  },
  {
   "cell_type": "code",
   "execution_count": 12,
   "metadata": {},
   "outputs": [
    {
     "name": "stdout",
     "output_type": "stream",
     "text": [
      "Chi Squared Value: 464.86291839888656\n"
     ]
    }
   ],
   "source": [
    "flux_theory, p1_chi_squared = p1_driver(flux_norm, flux_err_norm)\n",
    "print(\"Chi Squared Value: {}\".format(p1_chi_squared))"
   ]
  },
  {
   "cell_type": "markdown",
   "metadata": {},
   "source": [
    "## Problem 2\n",
    "##### Is this a good fit or not? To answer this question, first plot the data and the predicted transit curve."
   ]
  },
  {
   "cell_type": "code",
   "execution_count": 13,
   "metadata": {
    "collapsed": true
   },
   "outputs": [],
   "source": [
    "import matplotlib.pyplot as plt\n",
    "\n",
    "def plot_overlaid(time, flux1, flux2):\n",
    "    fig, ax1 = plt.subplots()\n",
    "    t = np.arange(0.01, 10.0, 0.01)\n",
    "    s1 = np.exp(t)\n",
    "    ax1.plot(time, flux1, 'b-')\n",
    "    ax1.set_xlabel('time (s)')\n",
    "    ax1.set_ylabel('Flux Ratio (Observed Data)', color='b')\n",
    "    ax1.tick_params('y', colors='b')\n",
    "\n",
    "    ax2 = ax1.twinx()\n",
    "    s2 = np.sin(2 * np.pi * t)\n",
    "    ax2.plot(time, flux2, 'r-')\n",
    "    ax2.set_ylabel('Flux Ratio (Predicted)', color='r')\n",
    "    ax2.tick_params('y', colors='r')\n",
    "\n",
    "    plt.show()"
   ]
  },
  {
   "cell_type": "code",
   "execution_count": 14,
   "metadata": {},
   "outputs": [
    {
     "data": {
      "image/png": "[encoded data removed]",
      "text/plain": [
       "<matplotlib.figure.Figure at 0x19166f2710>"
      ]
     },
     "metadata": {},
     "output_type": "display_data"
    }
   ],
   "source": [
    "plot_overlaid(time_extract, flux_norm, flux_theory)"
   ]
  },
  {
   "cell_type": "markdown",
   "metadata": {},
   "source": [
    "##### Before going any further, determine by eye if you think the fit is good or not.\n",
    "\n",
    "The fit seems pretty good by eye! The red and blue are very close."
   ]
  },
  {
   "cell_type": "code",
   "execution_count": 15,
   "metadata": {},
   "outputs": [
    {
     "name": "stdout",
     "output_type": "stream",
     "text": [
      "degrees freedom: 45\n"
     ]
    }
   ],
   "source": [
    "# calculate degrees freedom\n",
    "n_points = len(flux_norm)\n",
    "n_params = 3\n",
    "deg_free = n_points - n_params\n",
    "\n",
    "print(\"degrees freedom: {}\".format(deg_free))"
   ]
  },
  {
   "cell_type": "markdown",
   "metadata": {},
   "source": [
    "I calculated the p value using:\n",
    "\n",
    "`http://www.socscistatistics.com/pvalues/chidistribution.aspx`\n",
    "\n",
    "and got a value < 0.0001 (very unlikely model params)."
   ]
  },
  {
   "cell_type": "markdown",
   "metadata": {},
   "source": [
    "## Problem 3"
   ]
  },
  {
   "cell_type": "code",
   "execution_count": null,
   "metadata": {
    "collapsed": true
   },
   "outputs": [],
   "source": []
  }
 ],
 "metadata": {
  "kernelspec": {
   "display_name": "Python 3",
   "language": "python",
   "name": "python3"
  },
  "language_info": {
   "codemirror_mode": {
    "name": "ipython",
    "version": 3
   },
   "file_extension": ".py",
   "mimetype": "text/x-python",
   "name": "python",
   "nbconvert_exporter": "python",
   "pygments_lexer": "ipython3",
   "version": "3.6.3"
  }
 },
 "nbformat": 4,
 "nbformat_minor": 2
}
